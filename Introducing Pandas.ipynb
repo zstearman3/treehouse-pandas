{
 "cells": [
  {
   "cell_type": "markdown",
   "metadata": {},
   "source": [
    "# Course Work Along\n",
    "This notebook is being used to work alongside the team treehouse introduction to pandas course. Each section of the course also has it's own individual notebooks with the instructors work and notes. "
   ]
  },
  {
   "cell_type": "code",
   "execution_count": 1,
   "metadata": {},
   "outputs": [],
   "source": [
    "import numpy as np\n",
    "import pandas as pd\n",
    "import matplotlib.pyplot as plt"
   ]
  },
  {
   "cell_type": "code",
   "execution_count": 2,
   "metadata": {},
   "outputs": [
    {
     "data": {
      "text/plain": [
       "pasan       20.00\n",
       "treasure    20.18\n",
       "ashley       1.05\n",
       "craig       42.42\n",
       "dtype: float64"
      ]
     },
     "execution_count": 2,
     "metadata": {},
     "output_type": "execute_result"
    }
   ],
   "source": [
    "test_balance_data = {\n",
    "    'pasan': 20.00,\n",
    "    'treasure': 20.18,\n",
    "    'ashley': 1.05,\n",
    "    'craig': 42.42,\n",
    "}\n",
    "\n",
    "balances = pd.Series(test_balance_data)\n",
    "balances"
   ]
  },
  {
   "cell_type": "code",
   "execution_count": 3,
   "metadata": {},
   "outputs": [
    {
     "data": {
      "text/plain": [
       "0    20.00\n",
       "1    20.18\n",
       "2     1.05\n",
       "3    42.42\n",
       "dtype: float64"
      ]
     },
     "execution_count": 3,
     "metadata": {},
     "output_type": "execute_result"
    }
   ],
   "source": [
    "unlabeled_balances = pd.Series([20.00, 20.18, 1.05, 42.42])\n",
    "unlabeled_balances"
   ]
  },
  {
   "cell_type": "code",
   "execution_count": 4,
   "metadata": {},
   "outputs": [
    {
     "data": {
      "text/plain": [
       "pasan       20.00\n",
       "treasure    20.18\n",
       "ashley       1.05\n",
       "craig       42.42\n",
       "dtype: float64"
      ]
     },
     "execution_count": 4,
     "metadata": {},
     "output_type": "execute_result"
    }
   ],
   "source": [
    "labeled_balances = pd.Series(\n",
    "    [20.00, 20.18, 1.05, 42.42],\n",
    "    index=['pasan', 'treasure', 'ashley', 'craig']\n",
    ")\n",
    "labeled_balances"
   ]
  },
  {
   "cell_type": "markdown",
   "metadata": {},
   "source": [
    "## Creating a Series\n",
    "- Any iterable can be passed into a series including a np.arange\n",
    "- the index arguement labels the items in your series\n",
    "- A scalar can also be passed and will be set for all keys in the index"
   ]
  },
  {
   "cell_type": "code",
   "execution_count": 5,
   "metadata": {},
   "outputs": [
    {
     "data": {
      "text/plain": [
       "20.0"
      ]
     },
     "execution_count": 5,
     "metadata": {},
     "output_type": "execute_result"
    }
   ],
   "source": [
    "balances[0]"
   ]
  },
  {
   "cell_type": "code",
   "execution_count": 6,
   "metadata": {},
   "outputs": [
    {
     "data": {
      "text/plain": [
       "20.0"
      ]
     },
     "execution_count": 6,
     "metadata": {},
     "output_type": "execute_result"
    }
   ],
   "source": [
    "balances['pasan']"
   ]
  },
  {
   "cell_type": "code",
   "execution_count": 7,
   "metadata": {},
   "outputs": [
    {
     "name": "stdout",
     "output_type": "stream",
     "text": [
      "The user pasan has a value of $20.0\n",
      "The user treasure has a value of $20.18\n",
      "The user ashley has a value of $1.05\n",
      "The user craig has a value of $42.42\n"
     ]
    }
   ],
   "source": [
    "for label, value in balances.items():\n",
    "    print(\"The user {} has a value of ${}\".format(label, value))"
   ]
  },
  {
   "cell_type": "code",
   "execution_count": 8,
   "metadata": {},
   "outputs": [
    {
     "name": "stdout",
     "output_type": "stream",
     "text": [
      "Accessing a non-existent key raise a `KeyError`.\n"
     ]
    }
   ],
   "source": [
    "try:\n",
    "    balances['kermit']\n",
    "except KeyError as err:\n",
    "    print('Accessing a non-existent key raise a `KeyError`.')"
   ]
  },
  {
   "cell_type": "markdown",
   "metadata": {},
   "source": [
    "## Retrieving Series Values\n",
    "- You can pass in the label when calling the series to return the value associated with the label\n",
    "- Finding no label give a KeyError, so use `get` to safely access keys. Will return none if not present\n",
    "- Use `in` to test the existence of a label."
   ]
  },
  {
   "cell_type": "code",
   "execution_count": 9,
   "metadata": {},
   "outputs": [
    {
     "name": "stdout",
     "output_type": "stream",
     "text": [
      "Use `get` to safely access keys. `None` is returned if key not present.\n",
      "Use `in` to test the existence of a label.\n"
     ]
    }
   ],
   "source": [
    "if balances.get('kermit') is None:\n",
    "    print('Use `get` to safely access keys. `None` is returned if key not present.')\n",
    "    \n",
    "if 'kermit' not in balances:\n",
    "    print('Use `in` to test the existence of a label.')"
   ]
  },
  {
   "cell_type": "code",
   "execution_count": 10,
   "metadata": {},
   "outputs": [
    {
     "data": {
      "text/plain": [
       "1.05"
      ]
     },
     "execution_count": 10,
     "metadata": {},
     "output_type": "execute_result"
    }
   ],
   "source": [
    "# Dot notation also works!!\n",
    "balances.ashley"
   ]
  },
  {
   "cell_type": "code",
   "execution_count": 11,
   "metadata": {},
   "outputs": [
    {
     "data": {
      "text/plain": [
       "20.0"
      ]
     },
     "execution_count": 11,
     "metadata": {},
     "output_type": "execute_result"
    }
   ],
   "source": [
    "# using loc and iloc is more specific however, so we know if we are using the position or the label\n",
    "balances.loc['pasan']"
   ]
  },
  {
   "cell_type": "code",
   "execution_count": 12,
   "metadata": {},
   "outputs": [
    {
     "data": {
      "text/plain": [
       "20.0"
      ]
     },
     "execution_count": 12,
     "metadata": {},
     "output_type": "execute_result"
    }
   ],
   "source": [
    "balances.iloc[0]"
   ]
  },
  {
   "cell_type": "markdown",
   "metadata": {},
   "source": [
    "### Slices also work!\n",
    "But be careful: slices with positions and labels do not behave the same way. Positions are exclusive, while labels are inclusive of the last item... See below"
   ]
  },
  {
   "cell_type": "code",
   "execution_count": 13,
   "metadata": {},
   "outputs": [
    {
     "data": {
      "text/plain": [
       "pasan       20.00\n",
       "treasure    20.18\n",
       "ashley       1.05\n",
       "dtype: float64"
      ]
     },
     "execution_count": 13,
     "metadata": {},
     "output_type": "execute_result"
    }
   ],
   "source": [
    "balances.iloc[0:3]"
   ]
  },
  {
   "cell_type": "code",
   "execution_count": 14,
   "metadata": {},
   "outputs": [
    {
     "data": {
      "text/plain": [
       "pasan       20.00\n",
       "treasure    20.18\n",
       "ashley       1.05\n",
       "dtype: float64"
      ]
     },
     "execution_count": 14,
     "metadata": {},
     "output_type": "execute_result"
    }
   ],
   "source": [
    "balances.loc['pasan':'ashley']"
   ]
  },
  {
   "cell_type": "code",
   "execution_count": 15,
   "metadata": {},
   "outputs": [
    {
     "data": {
      "text/plain": [
       "pasan       20.00\n",
       "treasure    20.18\n",
       "ashley       1.05\n",
       "craig       42.42\n",
       "dtype: float64"
      ]
     },
     "execution_count": 15,
     "metadata": {},
     "output_type": "execute_result"
    }
   ],
   "source": [
    "test_deposit_data = {\n",
    "    'pasan': 20,\n",
    "    'treasure': 10,\n",
    "    'ashley': 100,\n",
    "    'craig': 55,   \n",
    "}\n",
    "deposits = pd.Series(test_deposit_data)\n",
    "balances"
   ]
  },
  {
   "cell_type": "code",
   "execution_count": 16,
   "metadata": {},
   "outputs": [
    {
     "data": {
      "text/plain": [
       "pasan        40.00\n",
       "treasure     30.18\n",
       "ashley      101.05\n",
       "craig        97.42\n",
       "dtype: float64"
      ]
     },
     "execution_count": 16,
     "metadata": {},
     "output_type": "execute_result"
    }
   ],
   "source": [
    "balances += deposits\n",
    "balances"
   ]
  },
  {
   "cell_type": "code",
   "execution_count": 17,
   "metadata": {},
   "outputs": [],
   "source": [
    "coupons = pd.Series(1, ['craig', 'ashley', 'james'])"
   ]
  },
  {
   "cell_type": "code",
   "execution_count": 18,
   "metadata": {},
   "outputs": [
    {
     "data": {
      "text/plain": [
       "ashley      102.05\n",
       "craig        98.42\n",
       "james          NaN\n",
       "pasan          NaN\n",
       "treasure       NaN\n",
       "dtype: float64"
      ]
     },
     "execution_count": 18,
     "metadata": {},
     "output_type": "execute_result"
    }
   ],
   "source": [
    "balances + coupons"
   ]
  },
  {
   "cell_type": "markdown",
   "metadata": {},
   "source": [
    "## Series Vecotrization and Broadcasting\n",
    "- You can broadcast with math functions just like with a np.arange\n",
    "- when adding two vectors, however, you will get NaN for labels not present in both matricies.\n",
    "    - Use the `fill_value` variable to override this behavior"
   ]
  },
  {
   "cell_type": "code",
   "execution_count": 19,
   "metadata": {},
   "outputs": [
    {
     "data": {
      "text/plain": [
       "ashley      102.05\n",
       "craig        98.42\n",
       "james         1.00\n",
       "pasan        40.00\n",
       "treasure     30.18\n",
       "dtype: float64"
      ]
     },
     "execution_count": 19,
     "metadata": {},
     "output_type": "execute_result"
    }
   ],
   "source": [
    "balances.add(coupons, fill_value = 0)"
   ]
  }
 ],
 "metadata": {
  "kernelspec": {
   "display_name": "Python 3",
   "language": "python",
   "name": "python3"
  },
  "language_info": {
   "codemirror_mode": {
    "name": "ipython",
    "version": 3
   },
   "file_extension": ".py",
   "mimetype": "text/x-python",
   "name": "python",
   "nbconvert_exporter": "python",
   "pygments_lexer": "ipython3",
   "version": "3.8.2"
  }
 },
 "nbformat": 4,
 "nbformat_minor": 4
}
